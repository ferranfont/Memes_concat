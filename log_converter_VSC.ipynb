{
 "cells": [
  {
   "cell_type": "markdown",
   "id": "d6a5e3e1",
   "metadata": {},
   "source": [
    "# Transformación de ficheros log a csv"
   ]
  },
  {
   "cell_type": "code",
   "execution_count": null,
   "id": "4d8a4f32",
   "metadata": {},
   "outputs": [],
   "source": [
    "# lectura de códigos Log en VSC"
   ]
  },
  {
   "cell_type": "code",
   "execution_count": 1,
   "id": "b02b0908",
   "metadata": {},
   "outputs": [
    {
     "name": "stdout",
     "output_type": "stream",
     "text": [
      "Archivo 0x304A95C1183cb9B3E67fccc39621D7Aa0139C06F.log convertido a CSV y guardado en processed_csv/0x304A95C1183cb9B3E67fccc39621D7Aa0139C06F.csv con comentario.\n",
      "Archivo 0x5404084080161dbb0824b3cE0Bd828f0D8266BbF.log convertido a CSV y guardado en processed_csv/0x5404084080161dbb0824b3cE0Bd828f0D8266BbF.csv con comentario.\n",
      "Archivo 0x65e6eC257df6076be7980d5b79AF063Ab5a4bfe6.log convertido a CSV y guardado en processed_csv/0x65e6eC257df6076be7980d5b79AF063Ab5a4bfe6.csv con comentario.\n",
      "Archivo 0x770e2a0D6c419B5c32516A29EF8279dfAE70ACb0.log convertido a CSV y guardado en processed_csv/0x770e2a0D6c419B5c32516A29EF8279dfAE70ACb0.csv con comentario.\n",
      "Archivo 0xe436F5a05D0D132058517B7f68f07c05B88d8820.log convertido a CSV y guardado en processed_csv/0xe436F5a05D0D132058517B7f68f07c05B88d8820.csv con comentario.\n"
     ]
    }
   ],
   "source": [
    "import pandas as pd\n",
    "import os\n",
    "\n",
    "# Cambio del directorio de entrada a 'logs_txt/'\n",
    "input_directory = 'logs_txt/'\n",
    "output_directory = 'processed_csv/'\n",
    "\n",
    "# Crear el directorio de salida si no existe\n",
    "if not os.path.exists(output_directory):\n",
    "    os.makedirs(output_directory)\n",
    "\n",
    "# Definir las columnas según la segunda fila del archivo, por lo que no las especificamos previamente\n",
    "\n",
    "for filename in os.listdir(input_directory):\n",
    "    if filename.endswith('.log'):\n",
    "        file_path = os.path.join(input_directory, filename)\n",
    "        \n",
    "        # Leer la primera línea para obtener el comentario\n",
    "        try:\n",
    "            with open(file_path, 'r', encoding='utf-8') as file:\n",
    "                first_line = file.readline().strip()  # Comentario\n",
    "                # Saltamos la segunda línea ya que será utilizada como cabecera al cargar el DataFrame\n",
    "        except UnicodeDecodeError:\n",
    "            print(f\"Error de codificación leyendo la primera línea de {filename}\")\n",
    "            continue  # Pasar al siguiente archivo si hay un error\n",
    "        \n",
    "        # Cargar el DataFrame, saltando la primera fila y utilizando la segunda como cabecera\n",
    "        try:\n",
    "            df = pd.read_csv(file_path, skiprows=1, header=0, encoding='utf-8')\n",
    "        except UnicodeDecodeError:\n",
    "            print(f\"Error de codificación leyendo el archivo {filename}\")\n",
    "            continue\n",
    "        \n",
    "        output_file_path = os.path.join(output_directory, f\"{os.path.splitext(filename)[0]}.csv\")\n",
    "        \n",
    "        # Guardar el comentario y el DataFrame a un archivo CSV\n",
    "        with open(output_file_path, 'w', encoding='utf-8') as file:\n",
    "            file.write(f'{first_line}\\n')\n",
    "        df.to_csv(output_file_path, mode='a', index=False, header=True, encoding='utf-8')\n",
    "        \n",
    "        print(f\"Archivo {filename} convertido a CSV y guardado en {output_file_path} con comentario.\")\n"
   ]
  },
  {
   "cell_type": "code",
   "execution_count": null,
   "id": "868aece4",
   "metadata": {},
   "outputs": [],
   "source": []
  },
  {
   "cell_type": "code",
   "execution_count": null,
   "id": "52f0a8be",
   "metadata": {},
   "outputs": [],
   "source": []
  }
 ],
 "metadata": {
  "kernelspec": {
   "display_name": "Python 3 (ipykernel)",
   "language": "python",
   "name": "python3"
  },
  "language_info": {
   "codemirror_mode": {
    "name": "ipython",
    "version": 3
   },
   "file_extension": ".py",
   "mimetype": "text/x-python",
   "name": "python",
   "nbconvert_exporter": "python",
   "pygments_lexer": "ipython3",
   "version": "3.10.9"
  }
 },
 "nbformat": 4,
 "nbformat_minor": 5
}
